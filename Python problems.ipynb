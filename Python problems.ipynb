{
 "cells": [
  {
   "cell_type": "markdown",
   "id": "37bd3e79",
   "metadata": {},
   "source": [
    "## Python problems"
   ]
  },
  {
   "cell_type": "code",
   "execution_count": 3,
   "id": "58c0f5aa",
   "metadata": {},
   "outputs": [
    {
     "name": "stdout",
     "output_type": "stream",
     "text": [
      "No double space \n"
     ]
    }
   ],
   "source": [
    "# 1.Replace the double spaces to single spaces in the string\n",
    "name = \"rahul kumar\"\n",
    "check = name.find(\"  \") \n",
    "if check != -1:\n",
    "    print(name.replace(\"  \",\" \"))\n",
    "else:\n",
    "    print(\"No double space \")"
   ]
  },
  {
   "cell_type": "code",
   "execution_count": 5,
   "id": "fcf24101",
   "metadata": {},
   "outputs": [
    {
     "name": "stdout",
     "output_type": "stream",
     "text": [
      "5\n"
     ]
    }
   ],
   "source": [
    "name = \"rahul  kumar\"\n",
    "check = name.find(\"  \") \n",
    "print(check)"
   ]
  },
  {
   "cell_type": "code",
   "execution_count": 7,
   "id": "0d498129",
   "metadata": {},
   "outputs": [
    {
     "name": "stdout",
     "output_type": "stream",
     "text": [
      "Enter the fruits name with single spaces:apple mango guava\n",
      "['apple', 'mango', 'guava']\n"
     ]
    }
   ],
   "source": [
    "# 2.Add the fuits name to the list\n",
    "fruits = input(\"Enter the fruits name with single spaces:\")\n",
    "fruits_list = []\n",
    "for item in fruits.split():\n",
    "    fruits_list.append(item)\n",
    "print(fruits_list)"
   ]
  },
  {
   "cell_type": "code",
   "execution_count": 1,
   "id": "61d300fb",
   "metadata": {},
   "outputs": [
    {
     "name": "stdout",
     "output_type": "stream",
     "text": [
      "Not a prime\n"
     ]
    }
   ],
   "source": [
    "# 3.prime number\n",
    "def is_prime(n):\n",
    "    if n<=1:\n",
    "        return \"Not a prime\"\n",
    "    for i in range(2,n):\n",
    "        if n % i == 0:\n",
    "            return \"Not a prime\"\n",
    "    return \"Prime\"\n",
    "\n",
    "print(is_prime(28))"
   ]
  },
  {
   "cell_type": "code",
   "execution_count": 12,
   "id": "fe24f221",
   "metadata": {},
   "outputs": [
    {
     "name": "stdout",
     "output_type": "stream",
     "text": [
      "8\n"
     ]
    }
   ],
   "source": [
    "# 4.Largest of three numbers\n",
    "a = 5\n",
    "b = 2\n",
    "c = 8\n",
    "if a > b and a > c:\n",
    "    largest = a\n",
    "elif b > a and b > c:\n",
    "    largest = b\n",
    "else:\n",
    "    largest = c\n",
    "print(largest)"
   ]
  },
  {
   "cell_type": "code",
   "execution_count": 13,
   "id": "1e7a01f9",
   "metadata": {},
   "outputs": [
    {
     "name": "stdout",
     "output_type": "stream",
     "text": [
      "Enter number 1: 2\n",
      "Enter number 2: 2\n",
      "Enter number 3: 3\n",
      "Enter number 4: 5\n",
      "5 is greatest\n"
     ]
    }
   ],
   "source": [
    "# 5.Greatest of four number\n",
    "num1 = int(input(\"Enter number 1: \"))\n",
    "num2 = int(input(\"Enter number 2: \"))\n",
    "num3 = int(input(\"Enter number 3: \"))\n",
    "num4 = int(input(\"Enter number 4: \"))\n",
    "if(num1>num4):\n",
    "    f1 = num1\n",
    "else:\n",
    "    f1 = num4\n",
    "\n",
    "if(num2>num3):\n",
    "    f2 = num2\n",
    "else:\n",
    "    f2 = num3\n",
    "\n",
    "if(f1>f2):\n",
    "    print(str(f1) + \" is greatest\")\n",
    "else:\n",
    "    print(str(f2) + \" is greatest\")"
   ]
  },
  {
   "cell_type": "code",
   "execution_count": 1,
   "id": "da27d131",
   "metadata": {},
   "outputs": [
    {
     "name": "stdout",
     "output_type": "stream",
     "text": [
      "120\n"
     ]
    }
   ],
   "source": [
    "# 6.Factorial\n",
    "def fac(n):\n",
    "    result = 1\n",
    "    while n > 0:\n",
    "        result *= n\n",
    "        n -=1\n",
    "    return result\n",
    "print(fac(5))"
   ]
  },
  {
   "cell_type": "code",
   "execution_count": 6,
   "id": "3a4b38b6",
   "metadata": {},
   "outputs": [
    {
     "name": "stdout",
     "output_type": "stream",
     "text": [
      "3\n",
      "6\n",
      "[4, 5]\n",
      "Hello\n"
     ]
    }
   ],
   "source": [
    "# Tuple unpacking\n",
    "my_tuple = (3,6,[4,5],\"Hello\")\n",
    "a,b,c,d = my_tuple\n",
    "print(a)\n",
    "print(b)\n",
    "print(c)\n",
    "print(d)"
   ]
  },
  {
   "cell_type": "code",
   "execution_count": 11,
   "id": "7b6c5078",
   "metadata": {},
   "outputs": [
    {
     "name": "stdout",
     "output_type": "stream",
     "text": [
      "<class 'str'>\n",
      "<class 'tuple'>\n"
     ]
    }
   ],
   "source": [
    "# important\n",
    "my_tup = 'Hello'\n",
    "print(type(my_tup))\n",
    "\n",
    "my_tup1 = 'Hello',    # comma makes a string into tuple\n",
    "print(type(my_tup1))"
   ]
  },
  {
   "cell_type": "code",
   "execution_count": 1,
   "id": "9a7451a1",
   "metadata": {},
   "outputs": [
    {
     "name": "stdout",
     "output_type": "stream",
     "text": [
      "120\n"
     ]
    }
   ],
   "source": [
    "# 7.factorial using Recurssion\n",
    "def factorial(n):\n",
    "    if (n==0 or n==1):\n",
    "        return 1\n",
    "    else:\n",
    "        return n * factorial(n-1)\n",
    "print(factorial(5))"
   ]
  },
  {
   "cell_type": "code",
   "execution_count": 2,
   "id": "26c0c0fa",
   "metadata": {},
   "outputs": [
    {
     "name": "stdout",
     "output_type": "stream",
     "text": [
      "15\n"
     ]
    }
   ],
   "source": [
    "# 8.sum of natural numbers Or we can calculate using formula (n*(n+1)/2)\n",
    "def sum(n):\n",
    "    if n==0:\n",
    "        return 0\n",
    "    else:\n",
    "        return n + sum(n-1)\n",
    "print(sum(5))"
   ]
  },
  {
   "cell_type": "code",
   "execution_count": 19,
   "id": "d4c565cf",
   "metadata": {},
   "outputs": [
    {
     "name": "stdout",
     "output_type": "stream",
     "text": [
      "0,1,1,2,3,5,8,13,21,34,55,89,144,233,377,610,987,1597,2584,4181,"
     ]
    }
   ],
   "source": [
    "# 9.Fibonacci Series\n",
    "def fibonacii(n):\n",
    "    a = 0\n",
    "    b = 1\n",
    "    \n",
    "    if n == 1:\n",
    "        return 1\n",
    "    else:\n",
    "        print(a,end= \",\")\n",
    "        print(b,end = \",\")\n",
    "\n",
    "        for i in range(2,n):\n",
    "            c = (a + b)\n",
    "            a = b\n",
    "            b = c\n",
    "            print(c,end = \",\")\n",
    "    \n",
    "fibonacii(20)"
   ]
  },
  {
   "cell_type": "code",
   "execution_count": 1,
   "id": "da34dab8",
   "metadata": {},
   "outputs": [
    {
     "name": "stdout",
     "output_type": "stream",
     "text": [
      "0, 1, 1, 2, 3, 5\n"
     ]
    }
   ],
   "source": [
    "# Better fibonachi code than above one -- this is withuot last digit comma\n",
    "def fibonachi(n):\n",
    "    a = 0\n",
    "    b = 1\n",
    "    \n",
    "    fib_series = []\n",
    "    for i in range(n):\n",
    "        fib_series.append(a)\n",
    "        a,b = b, a+b\n",
    "    return \", \".join(map(str,fib_series))\n",
    "\n",
    "print(fibonachi(6))"
   ]
  },
  {
   "cell_type": "code",
   "execution_count": 4,
   "id": "c88f4626",
   "metadata": {},
   "outputs": [
    {
     "name": "stdout",
     "output_type": "stream",
     "text": [
      "10 20 30 40 \n"
     ]
    },
    {
     "data": {
      "text/plain": [
       "[10, 20, 30, 40]"
      ]
     },
     "execution_count": 4,
     "metadata": {},
     "output_type": "execute_result"
    }
   ],
   "source": [
    "# map function  : used for the type conversion\n",
    "a = list(map(int,input().split()))\n",
    "a"
   ]
  },
  {
   "cell_type": "code",
   "execution_count": 3,
   "id": "567acf9c",
   "metadata": {},
   "outputs": [
    {
     "name": "stdout",
     "output_type": "stream",
     "text": [
      "True\n"
     ]
    }
   ],
   "source": [
    "# 10.Given two strings A and B, find if A is a subsequence of B.\n",
    "\n",
    "def isSubSequence(A, B):\n",
    "        i = 0\n",
    "        j = 0\n",
    "        while i < len(A) and j < len(B):\n",
    "            if A[i] == B[j]:\n",
    "                 i +=1\n",
    "            j +=1\n",
    "        return i == len(A)\n",
    "A = \"art\"\n",
    "B = \"ajshrkdsjt\"\n",
    "print(isSubSequence(A,B))\n",
    "    "
   ]
  },
  {
   "cell_type": "code",
   "execution_count": 1,
   "id": "fc13fdb6",
   "metadata": {},
   "outputs": [
    {
     "name": "stdout",
     "output_type": "stream",
     "text": [
      "True\n"
     ]
    }
   ],
   "source": [
    "# 11.Given string is Isogram or not\n",
    "\n",
    "def isIsogram(s):\n",
    "    s = s.lower()\n",
    "    seen = set()\n",
    "    for c in s:\n",
    "        if c.isalpha():\n",
    "            if c in seen:\n",
    "                return False\n",
    "            seen.add(c)\n",
    "    return True\n",
    "s = \"machine\"\n",
    "print(isIsogram(s))"
   ]
  },
  {
   "cell_type": "code",
   "execution_count": 5,
   "id": "acfe764d",
   "metadata": {},
   "outputs": [
    {
     "name": "stdout",
     "output_type": "stream",
     "text": [
      "False\n"
     ]
    }
   ],
   "source": [
    "#  OR\n",
    "def IsoGram(word):\n",
    "    word_lower = word.lower()\n",
    "    unique = set(word_lower)\n",
    "    if len(word_lower) == len(unique):\n",
    "        return True\n",
    "    else:\n",
    "        return False\n",
    "x = \"MachineE\"\n",
    "print(IsoGram(x))"
   ]
  },
  {
   "cell_type": "code",
   "execution_count": 4,
   "id": "8fae09ad",
   "metadata": {},
   "outputs": [
    {
     "data": {
      "text/plain": [
       "True"
      ]
     },
     "execution_count": 4,
     "metadata": {},
     "output_type": "execute_result"
    }
   ],
   "source": [
    "# 12.Palindrone\n",
    "def isPalindrome( s):\n",
    "    str = []\n",
    "    s = s.lower()\n",
    "    for i in s:\n",
    "        if i.isalnum():\n",
    "            str.append(i)\n",
    "    if  str == str[::-1]:\n",
    "        return True\n",
    "    else:\n",
    "        return False\n",
    "\n",
    "print(isPalindrome(\"tat\"))"
   ]
  },
  {
   "cell_type": "code",
   "execution_count": 35,
   "id": "b571c4c2",
   "metadata": {},
   "outputs": [
    {
     "data": {
      "text/plain": [
       "[5, 4, 3, 2, 1]"
      ]
     },
     "execution_count": 35,
     "metadata": {},
     "output_type": "execute_result"
    }
   ],
   "source": [
    "## 13. Reverse the array\n",
    "\n",
    "list = [1,2,3,4,5]\n",
    "list.reverse()\n",
    "list"
   ]
  },
  {
   "cell_type": "code",
   "execution_count": 2,
   "id": "216925b3",
   "metadata": {},
   "outputs": [
    {
     "name": "stdout",
     "output_type": "stream",
     "text": [
      "91\n",
      "-1\n"
     ]
    }
   ],
   "source": [
    "## 14. Find the maximum and minimum in an array\n",
    "list = [2,4,5,3,66,47,91,3,56,0,-1]\n",
    "\n",
    "list.sort()\n",
    "max_no  = list[len(list)-1]\n",
    "min_no = list[0]\n",
    "\n",
    "print(max_no)\n",
    "print(min_no)"
   ]
  },
  {
   "cell_type": "code",
   "execution_count": 3,
   "id": "b9a4dddf",
   "metadata": {},
   "outputs": [
    {
     "name": "stdout",
     "output_type": "stream",
     "text": [
      "Enter the kth maximum term4\n",
      "47\n"
     ]
    }
   ],
   "source": [
    "# Find the \"Kth\" max and min element of an array\n",
    "list = [2,4,5,3,66,47,91,3,56,0,-1]\n",
    "i = int(input(\"Enter the kth maximum term\"))\n",
    "\n",
    "list.sort()\n",
    "max_no  = list[len(list)-i]\n",
    "min_no = list[0]\n",
    "\n",
    "print(max_no)\n"
   ]
  },
  {
   "cell_type": "code",
   "execution_count": null,
   "id": "a6664db6",
   "metadata": {},
   "outputs": [],
   "source": [
    "## 15 Given an array which consists of only 0, 1 and 2. Sort the array without using any sorting algo\n",
    "\n",
    "def sort(arr):\n",
    "    sorted_arr = []\n",
    "    \n",
    "    for i in arr:\n",
    "        \n"
   ]
  },
  {
   "cell_type": "code",
   "execution_count": 1,
   "id": "9ba19976",
   "metadata": {},
   "outputs": [
    {
     "name": "stdout",
     "output_type": "stream",
     "text": [
      "much.very.program.this.like.i\n"
     ]
    }
   ],
   "source": [
    "## 16. Given a String S, reverse the string without reversing its individual words. Words are separated by dots.\n",
    "def reverseWords(S):\n",
    "    word_list = S.split(\".\")\n",
    "    word_list.reverse()\n",
    "    return (\".\".join(word_list))\n",
    "print(reverseWords(\"i.like.this.program.very.much\"))"
   ]
  },
  {
   "cell_type": "code",
   "execution_count": 1,
   "id": "0256ea5a",
   "metadata": {},
   "outputs": [
    {
     "name": "stdout",
     "output_type": "stream",
     "text": [
      "[5, 6, 3, 9]\n"
     ]
    }
   ],
   "source": [
    "## 17 Python – Remove empty List from List\n",
    "test_list = [5, 6, [], 3, [], [], 9]\n",
    "new_list = list(filter(None,test_list))\n",
    "print((new_list))"
   ]
  },
  {
   "cell_type": "code",
   "execution_count": null,
   "id": "b2356d71",
   "metadata": {},
   "outputs": [],
   "source": [
    "##"
   ]
  }
 ],
 "metadata": {
  "kernelspec": {
   "display_name": "Python 3 (ipykernel)",
   "language": "python",
   "name": "python3"
  },
  "language_info": {
   "codemirror_mode": {
    "name": "ipython",
    "version": 3
   },
   "file_extension": ".py",
   "mimetype": "text/x-python",
   "name": "python",
   "nbconvert_exporter": "python",
   "pygments_lexer": "ipython3",
   "version": "3.11.3"
  }
 },
 "nbformat": 4,
 "nbformat_minor": 5
}
